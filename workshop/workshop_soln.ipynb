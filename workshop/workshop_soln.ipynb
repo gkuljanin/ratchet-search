{
 "cells": [
  {
   "cell_type": "code",
   "execution_count": 1,
   "id": "2bbe969a-a599-448b-928c-aa13fdb00acb",
   "metadata": {},
   "outputs": [],
   "source": [
    "import pandas as pd\n",
    "import numpy as np\n",
    "import matplotlib.pyplot as plt\n",
    "import os"
   ]
  },
  {
   "cell_type": "code",
   "execution_count": 2,
   "id": "c8fb9808-aee1-4210-b1d1-d91a5d754836",
   "metadata": {},
   "outputs": [],
   "source": [
    "current_dir = os.getcwd()\n",
    "ROOT_PATH = '/Users/robinburke/Documents/research/ratchet-search'\n",
    "os.chdir(ROOT_PATH)\n",
    "from ratchet_search import BinarySpaceSearch \n",
    "os.chdir(current_dir)"
   ]
  },
  {
   "cell_type": "code",
   "execution_count": 58,
   "id": "c58ae934-846a-4034-96e9-94eeac197454",
   "metadata": {},
   "outputs": [],
   "source": [
    "data_file = \"hp_ret_pg_probs.csv\"\n",
    "data = pd.read_csv(data_file)\n",
    "data['UNIQUE_ID'] = data['UNIQUE_ID'].astype('int')\n",
    "sorted = data.sort_values('yes_hp_en', ascending=False)\n",
    "sorted = sorted.reset_index(drop=True)\n",
    "top_hp = sorted[:1125]\n",
    "bot_hp = sorted[1125:]"
   ]
  },
  {
   "cell_type": "code",
   "execution_count": 27,
   "id": "c59453db-3c55-47c3-be3e-4726d1646bcd",
   "metadata": {},
   "outputs": [],
   "source": [
    "def nodes2df (nodes, labels):\n",
    "    frames = []\n",
    "    for node in nodes:\n",
    "        row_dict = {}\n",
    "        row_dict[labels[0]] = node.id\n",
    "        for i in range(0, len(node.features)):\n",
    "            row_dict[labels[i+1]] = node.features[i]\n",
    "        frames.append(pd.DataFrame(row_dict, index=[0]))\n",
    "    return pd.concat(frames, ignore_index=True)"
   ]
  },
  {
   "cell_type": "markdown",
   "id": "0ab2b2b1-1802-4375-97ee-b4eaad69d51c",
   "metadata": {},
   "source": [
    "# Compute candidates to drop from the top half"
   ]
  },
  {
   "cell_type": "code",
   "execution_count": 28,
   "id": "e06988f9-9dbb-4362-aa2a-e7d86c35e967",
   "metadata": {},
   "outputs": [
    {
     "name": "stdout",
     "output_type": "stream",
     "text": [
      "Shape Top: (8.3, 14.2, 4.6)\n",
      "Boundary: [0.41553408 0.71091372 0.230296  ]\n"
     ]
    }
   ],
   "source": [
    "shape_top = (8.3, 14.2, 4.6)\n",
    "\n",
    "search_top = BinarySpaceSearch(top_hp, shape_top, 18)\n",
    "boundary_top = search_top.search()\n",
    "drop_df = nodes2df(search_top.enclosed, ['ID', 'hp', 'ret', 'pgp'])\n",
    "\n",
    "print(f'Shape Top: {shape_top}')\n",
    "print(f'Boundary: {boundary_top}')"
   ]
  },
  {
   "cell_type": "code",
   "execution_count": 9,
   "id": "e0200d47-33fe-43dd-920b-4e7c792a1955",
   "metadata": {},
   "outputs": [],
   "source": [
    "exp_info_file = \"top_results.csv\"\n",
    "df = pd.DataFrame({'shape_x': shape_top[0], 'shape_y': shape_top[1], 'shape_z': shape_top[2],\n",
    "                   'bound_x': boundary_top[0], 'bound_y': boundary_top[1], 'bound_z': boundary_top[2]},\n",
    "                    index=[1])\n",
    "\n",
    "df.to_csv(exp_info_file, mode='a', header=not os.path.exists(exp_info_file),\n",
    "          index=False)"
   ]
  },
  {
   "cell_type": "markdown",
   "id": "ffa1ed2a-a61d-438f-aeba-6413da3ce8d8",
   "metadata": {},
   "source": [
    "# Compute candidates to include from bottom half\n",
    "Since we want the best candidates in this set, we invert the probabilities."
   ]
  },
  {
   "cell_type": "code",
   "execution_count": 23,
   "id": "3e79ea9c-c3e3-4b88-b200-cbf1a7b41ab5",
   "metadata": {},
   "outputs": [
    {
     "data": {
      "text/html": [
       "<div>\n",
       "<style scoped>\n",
       "    .dataframe tbody tr th:only-of-type {\n",
       "        vertical-align: middle;\n",
       "    }\n",
       "\n",
       "    .dataframe tbody tr th {\n",
       "        vertical-align: top;\n",
       "    }\n",
       "\n",
       "    .dataframe thead th {\n",
       "        text-align: right;\n",
       "    }\n",
       "</style>\n",
       "<table border=\"1\" class=\"dataframe\">\n",
       "  <thead>\n",
       "    <tr style=\"text-align: right;\">\n",
       "      <th></th>\n",
       "      <th>UNIQUE_ID</th>\n",
       "      <th>yes_hp_en</th>\n",
       "      <th>yes_ret_yhp_en</th>\n",
       "      <th>yes_pg_yhp_en</th>\n",
       "    </tr>\n",
       "  </thead>\n",
       "  <tbody>\n",
       "    <tr>\n",
       "      <th>count</th>\n",
       "      <td>1.125000e+03</td>\n",
       "      <td>1125.000000</td>\n",
       "      <td>1125.000000</td>\n",
       "      <td>1125.000000</td>\n",
       "    </tr>\n",
       "    <tr>\n",
       "      <th>mean</th>\n",
       "      <td>2.430928e+08</td>\n",
       "      <td>0.720807</td>\n",
       "      <td>0.437868</td>\n",
       "      <td>0.624225</td>\n",
       "    </tr>\n",
       "    <tr>\n",
       "      <th>std</th>\n",
       "      <td>1.399882e+07</td>\n",
       "      <td>0.080685</td>\n",
       "      <td>0.107921</td>\n",
       "      <td>0.199390</td>\n",
       "    </tr>\n",
       "    <tr>\n",
       "      <th>min</th>\n",
       "      <td>1.202837e+08</td>\n",
       "      <td>0.601530</td>\n",
       "      <td>0.005313</td>\n",
       "      <td>0.036684</td>\n",
       "    </tr>\n",
       "    <tr>\n",
       "      <th>25%</th>\n",
       "      <td>2.450334e+08</td>\n",
       "      <td>0.654873</td>\n",
       "      <td>0.362802</td>\n",
       "      <td>0.484362</td>\n",
       "    </tr>\n",
       "    <tr>\n",
       "      <th>50%</th>\n",
       "      <td>2.451151e+08</td>\n",
       "      <td>0.709376</td>\n",
       "      <td>0.437357</td>\n",
       "      <td>0.650567</td>\n",
       "    </tr>\n",
       "    <tr>\n",
       "      <th>75%</th>\n",
       "      <td>2.451764e+08</td>\n",
       "      <td>0.775480</td>\n",
       "      <td>0.507535</td>\n",
       "      <td>0.788869</td>\n",
       "    </tr>\n",
       "    <tr>\n",
       "      <th>max</th>\n",
       "      <td>2.452741e+08</td>\n",
       "      <td>0.999527</td>\n",
       "      <td>0.999839</td>\n",
       "      <td>0.969007</td>\n",
       "    </tr>\n",
       "  </tbody>\n",
       "</table>\n",
       "</div>"
      ],
      "text/plain": [
       "          UNIQUE_ID    yes_hp_en  yes_ret_yhp_en  yes_pg_yhp_en\n",
       "count  1.125000e+03  1125.000000     1125.000000    1125.000000\n",
       "mean   2.430928e+08     0.720807        0.437868       0.624225\n",
       "std    1.399882e+07     0.080685        0.107921       0.199390\n",
       "min    1.202837e+08     0.601530        0.005313       0.036684\n",
       "25%    2.450334e+08     0.654873        0.362802       0.484362\n",
       "50%    2.451151e+08     0.709376        0.437357       0.650567\n",
       "75%    2.451764e+08     0.775480        0.507535       0.788869\n",
       "max    2.452741e+08     0.999527        0.999839       0.969007"
      ]
     },
     "execution_count": 23,
     "metadata": {},
     "output_type": "execute_result"
    }
   ],
   "source": [
    "bot_hp_xform = bot_hp.copy()\n",
    "\n",
    "bot_hp_xform.iloc[:,1:4] = 1 - bot_hp_xform.iloc[:,1:4]\n",
    "\n",
    "bot_hp_xform.describe()"
   ]
  },
  {
   "cell_type": "code",
   "execution_count": 70,
   "id": "c05d48b3-3ce7-408f-9dd6-38d3347eacec",
   "metadata": {},
   "outputs": [
    {
     "name": "stdout",
     "output_type": "stream",
     "text": [
      "Shape Bottom: (8, 4, 8)\n",
      "Boundary: [0.65297103 0.32648551 0.65297103]\n"
     ]
    }
   ],
   "source": [
    "shape_bottom = (8, 4, 8)\n",
    "search_bottom = BinarySpaceSearch(bot_hp_xform, shape_bottom, 18)\n",
    "boundary_bottom = search_bottom.search()\n",
    "add_df = nodes2df(search_bottom.enclosed, ['ID', 'hp', 'ret', 'pgp'])\n",
    "\n",
    "exp_info_file = \"bot_results.csv\"\n",
    "df = pd.DataFrame({'shape_x': shape_bottom[0], 'shape_y': shape_bottom[1], 'shape_z': shape_bottom[2],\n",
    "                   'bound_x': boundary_bottom[0], 'bound_y': boundary_bottom[1], 'bound_z': boundary_bottom[2]},\n",
    "                    index=[1])\n",
    "\n",
    "df.to_csv(exp_info_file, mode='a', header=not os.path.exists(exp_info_file),\n",
    "          index=False)\n",
    "\n",
    "print(f'Shape Bottom: {shape_bottom}')\n",
    "print(f'Boundary: {boundary_bottom}')"
   ]
  },
  {
   "cell_type": "code",
   "execution_count": 81,
   "id": "2724ac8c-6ab2-4b29-b35f-94026add5169",
   "metadata": {},
   "outputs": [],
   "source": [
    "top_copy = top_hp.copy()\n",
    "\n",
    "top_copy['Hire'] = True\n",
    "top_copy.loc[top_copy.set_index('UNIQUE_ID').index.isin(drop_df.set_index('ID').index),'Hire'] = False"
   ]
  },
  {
   "cell_type": "code",
   "execution_count": 82,
   "id": "517b232b-d6c0-4d8b-9e4a-888caf97cf29",
   "metadata": {},
   "outputs": [],
   "source": [
    "bot_copy = bot_hp.copy()\n",
    "\n",
    "bot_copy['Hire'] = False\n",
    "bot_copy.loc[bot_copy.set_index('UNIQUE_ID').index.isin(add_df.set_index('ID').index),'Hire'] = True"
   ]
  },
  {
   "cell_type": "code",
   "execution_count": 84,
   "id": "a55c5174-276e-4c19-98ea-2d0adc5c72cc",
   "metadata": {},
   "outputs": [],
   "source": [
    "final_df = pd.concat([top_copy, bot_copy])"
   ]
  },
  {
   "cell_type": "code",
   "execution_count": 85,
   "id": "98fab578-d8d5-4a3d-8383-bdc8b639707c",
   "metadata": {},
   "outputs": [],
   "source": [
    "final_df.to_csv('final.cvs', index=False)"
   ]
  },
  {
   "cell_type": "code",
   "execution_count": null,
   "id": "c450165b-a455-405f-8052-3ccf6c45d1a8",
   "metadata": {},
   "outputs": [],
   "source": []
  }
 ],
 "metadata": {
  "kernelspec": {
   "display_name": "Python 3",
   "language": "python",
   "name": "python3"
  },
  "language_info": {
   "codemirror_mode": {
    "name": "ipython",
    "version": 3
   },
   "file_extension": ".py",
   "mimetype": "text/x-python",
   "name": "python",
   "nbconvert_exporter": "python",
   "pygments_lexer": "ipython3",
   "version": "3.8.8"
  }
 },
 "nbformat": 4,
 "nbformat_minor": 5
}
