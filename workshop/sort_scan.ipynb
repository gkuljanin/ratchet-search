{
 "cells": [
  {
   "cell_type": "code",
   "execution_count": 1,
   "id": "2bbe969a-a599-448b-928c-aa13fdb00acb",
   "metadata": {},
   "outputs": [],
   "source": [
    "import pandas as pd\n",
    "import numpy as np\n",
    "import matplotlib.pyplot as plt\n",
    "from sortedcontainers import SortedKeyList"
   ]
  },
  {
   "cell_type": "code",
   "execution_count": 2,
   "id": "c58ae934-846a-4034-96e9-94eeac197454",
   "metadata": {},
   "outputs": [],
   "source": [
    "    data_file = \"hp_ret_pg_probs.csv\"\n",
    "    data = pd.read_csv(data_file)\n",
    "    data['UNIQUE_ID'] = data['UNIQUE_ID'].astype('int')\n",
    "    sorted = data.sort_values('yes_hp_en', ascending=False)\n",
    "    sorted = sorted.reset_index(drop=True)\n",
    "    top_hp = sorted[:1125]\n",
    "    bot_hp = sorted[1125:]"
   ]
  },
  {
   "cell_type": "code",
   "execution_count": 3,
   "id": "e06988f9-9dbb-4362-aa2a-e7d86c35e967",
   "metadata": {},
   "outputs": [],
   "source": [
    "class RatchetNode:\n",
    "\n",
    "    def __init__(self, id: int, features: np.ndarray):\n",
    "        self.id = int(id)\n",
    "        self.features = np.array(features)\n",
    "        self.mag = magnitude(self.features)\n",
    "        self.enclosed = None\n",
    "        self.extra = None\n",
    "\n",
    "    def __repr__(self):\n",
    "        \n",
    "        return f'RatchetNode({self.id}, {self.features}, {self.enclosed})'\n",
    "\n",
    "    def __str__(self):\n",
    "        return self.__repr__()\n",
    "\n",
    "    def get_feature(self, idx: int):\n",
    "        return self.features[idx]\n",
    "\n",
    "    def get_mag(self):\n",
    "        return self._mag"
   ]
  },
  {
   "cell_type": "markdown",
   "id": "ffa1ed2a-a61d-438f-aeba-6413da3ce8d8",
   "metadata": {},
   "source": [
    "Chebychev distance from origin"
   ]
  },
  {
   "cell_type": "code",
   "execution_count": 4,
   "id": "3e79ea9c-c3e3-4b88-b200-cbf1a7b41ab5",
   "metadata": {},
   "outputs": [],
   "source": [
    "def magnitude(arr: np.ndarray):\n",
    "    return arr.max()"
   ]
  },
  {
   "cell_type": "code",
   "execution_count": 5,
   "id": "420a455b-a31a-4952-a631-4b351316954a",
   "metadata": {},
   "outputs": [],
   "source": [
    "queue = SortedKeyList(key=lambda node: node.mag)"
   ]
  },
  {
   "cell_type": "code",
   "execution_count": 6,
   "id": "2e00081e-0170-4168-9d60-70afae06860b",
   "metadata": {},
   "outputs": [],
   "source": [
    "for id, row in top_hp.iterrows():\n",
    "    id = row[0]\n",
    "    features = list(row[1:])\n",
    "    rn = RatchetNode(id, np.array(features))\n",
    "    queue.add(rn)"
   ]
  },
  {
   "cell_type": "markdown",
   "id": "6741747b-59d7-42b9-b091-195e3a21df91",
   "metadata": {},
   "source": [
    "# Sort and scan method\n",
    "\n",
    "1. Create list sorted by chebyshev distance\n",
    "1. For each item, compute size of \"contained\" set by scanning earlier items in the list in inverse order\n",
    "    1. If a \"candidate\" item or \"extra\" is encountered, stop \n",
    "1. If an item contains exactly k points, mark as \"candidate\"\n",
    "1. If an item contains more than k points, mark as \"extra\""
   ]
  },
  {
   "cell_type": "code",
   "execution_count": 7,
   "id": "6e91ca66-b7e7-40e5-88e6-dfdeded5f5d5",
   "metadata": {},
   "outputs": [],
   "source": [
    "def encloses(p1: np.ndarray, p2: np.ndarray):\n",
    "    return np.sum(p1 < p2) == 0\n",
    "\n",
    "def encloses_node(n1: RatchetNode, n2: RatchetNode):\n",
    "    return encloses(n1.features, n2.features)"
   ]
  },
  {
   "cell_type": "code",
   "execution_count": 8,
   "id": "cdda1ac5-ac73-4845-ae13-0fda395dd471",
   "metadata": {},
   "outputs": [],
   "source": [
    "def scan_left(i):\n",
    "    while i >= 0:\n",
    "        node = queue[i]\n",
    "        yield node\n",
    "        i -= 1\n"
   ]
  },
  {
   "cell_type": "code",
   "execution_count": 9,
   "id": "1e66441b-8b7d-45d1-a31f-052164ed1c54",
   "metadata": {},
   "outputs": [],
   "source": [
    "candidate_limit = 18\n",
    "\n",
    "def process_node(i):\n",
    "    rn = queue[i]\n",
    "    scanner = scan_left(i) # includes i\n",
    "    enclosed_count = 0 \n",
    "    \n",
    "    try:\n",
    "        while True:\n",
    "            this_node = next(scanner)\n",
    "            #if this_node.enclosed == candidate_limit or this_node.extra == True:\n",
    "            #    rn.enclosed = -1\n",
    "            #    rn.extra = True\n",
    "            #    break\n",
    "            if encloses_node(rn, this_node):\n",
    "                enclosed_count += 1\n",
    "    except StopIteration:\n",
    "        rn.enclosed = enclosed_count\n",
    "     "
   ]
  },
  {
   "cell_type": "code",
   "execution_count": 10,
   "id": "bfb1f5fa-11e7-4b02-ba18-cdf075400e2d",
   "metadata": {},
   "outputs": [],
   "source": [
    "for i in range(0, len(queue)):\n",
    "    process_node(i)"
   ]
  },
  {
   "cell_type": "code",
   "execution_count": 11,
   "id": "d8d47169-0809-4f5d-aef8-3f1bc6cb379c",
   "metadata": {},
   "outputs": [],
   "source": [
    "candidates = [node for node in queue if node.enclosed == candidate_limit]"
   ]
  },
  {
   "cell_type": "code",
   "execution_count": 15,
   "id": "81f61cba-70a3-4370-9fae-66b4abc0c0e5",
   "metadata": {},
   "outputs": [],
   "source": [
    "def list_enclosed(rn):\n",
    "    return [node for node in queue if encloses_node(rn, node)]\n",
    "def list_enclosed_point(pt):\n",
    "    return [node for node in queue if encloses(pt, node.features)]"
   ]
  },
  {
   "cell_type": "markdown",
   "id": "b9d4d938-14f3-464b-af7a-9b9048b74e46",
   "metadata": {},
   "source": [
    "From competition 0.415, 0.715, 0.230"
   ]
  },
  {
   "cell_type": "code",
   "execution_count": 13,
   "id": "6fc90d25-6d96-4a63-81b3-e5560f64d9e0",
   "metadata": {},
   "outputs": [
    {
     "data": {
      "text/plain": [
       "[RatchetNode(245190863, [0.4896092  0.44540571 0.40050956], 18),\n",
       " RatchetNode(245112404, [0.49687701 0.44573209 0.36741416], 18),\n",
       " RatchetNode(245093499, [0.50945927 0.43028714 0.39348067], 18),\n",
       " RatchetNode(244293041, [0.45818007 0.50983837 0.30488046], 18),\n",
       " RatchetNode(245108123, [0.44393614 0.53597884 0.29802305], 18),\n",
       " RatchetNode(244964283, [0.46084066 0.53686924 0.23056328], 18),\n",
       " RatchetNode(245121780, [0.4113807  0.58231522 0.48848779], 18),\n",
       " RatchetNode(245122147, [0.42069211 0.59928834 0.29546919], 18),\n",
       " RatchetNode(241497941, [0.65977217 0.42563985 0.36986167], 18),\n",
       " RatchetNode(245040895, [0.43736535 0.66545202 0.1546297 ], 18),\n",
       " RatchetNode(245016701, [0.42402772 0.70913989 0.17931053], 18)]"
      ]
     },
     "execution_count": 13,
     "metadata": {},
     "output_type": "execute_result"
    }
   ],
   "source": [
    "candidates"
   ]
  },
  {
   "cell_type": "code",
   "execution_count": 14,
   "id": "89109759-0f65-4edb-89d9-0a09eb1e828f",
   "metadata": {},
   "outputs": [
    {
     "data": {
      "text/plain": [
       "[RatchetNode(245028423, [0.41087466 0.42891356 0.19042865], 1),\n",
       " RatchetNode(245070606, [0.44077203 0.39712501 0.07304131], 1),\n",
       " RatchetNode(245171642, [0.4479794  0.4243105  0.08144297], 2),\n",
       " RatchetNode(245117139, [0.45082415 0.43996205 0.15467944], 3),\n",
       " RatchetNode(244979211, [0.44662343 0.45782495 0.14652687], 2),\n",
       " RatchetNode(245064622, [0.43013372 0.46081103 0.12561053], 1),\n",
       " RatchetNode(245139242, [0.42392657 0.47209906 0.10060654], 1),\n",
       " RatchetNode(241622322, [0.41576138 0.47213877 0.11494354], 1),\n",
       " RatchetNode(245205576, [0.44180583 0.47941804 0.11535136], 4),\n",
       " RatchetNode(240196414, [0.45861683 0.48663731 0.20074199], 10),\n",
       " RatchetNode(245213151, [0.44804655 0.48836533 0.17171881], 8),\n",
       " RatchetNode(245185440, [0.4449801  0.5123646  0.16308749], 6),\n",
       " RatchetNode(245255383, [0.43713557 0.51244276 0.12041233], 3),\n",
       " RatchetNode(244821669, [0.45621981 0.51580069 0.21139016], 13),\n",
       " RatchetNode(245146457, [0.44205732 0.52012514 0.04373556], 1),\n",
       " RatchetNode(245162047, [0.40090643 0.52599713 0.19371993], 1),\n",
       " RatchetNode(245165815, [0.42390683 0.52650148 0.21621107], 4),\n",
       " RatchetNode(244964283, [0.46084066 0.53686924 0.23056328], 18)]"
      ]
     },
     "execution_count": 14,
     "metadata": {},
     "output_type": "execute_result"
    }
   ],
   "source": [
    "list_enclosed(candidates[5])"
   ]
  },
  {
   "cell_type": "code",
   "execution_count": 16,
   "id": "f77413e2-fa61-4ff3-b74b-98233d95f4bc",
   "metadata": {},
   "outputs": [
    {
     "data": {
      "text/plain": [
       "[RatchetNode(245028423, [0.41087466 0.42891356 0.19042865], 1),\n",
       " RatchetNode(245162047, [0.40090643 0.52599713 0.19371993], 1),\n",
       " RatchetNode(245207936, [0.40323004 0.59275395 0.20255607], 2),\n",
       " RatchetNode(245118561, [0.40354597 0.59399804 0.0557527 ], 1),\n",
       " RatchetNode(245186798, [0.40875887 0.59732814 0.21236595], 4),\n",
       " RatchetNode(245130608, [0.40387427 0.59865963 0.12460671], 2),\n",
       " RatchetNode(245071342, [0.40045588 0.609327   0.20674791], 1),\n",
       " RatchetNode(245242847, [0.40769981 0.61889304 0.13203352], 3),\n",
       " RatchetNode(245205877, [0.41150312 0.6246401  0.08901689], 2),\n",
       " RatchetNode(227473475, [0.4009301  0.63405295 0.18562071], 1),\n",
       " RatchetNode(245222792, [0.40443196 0.65056075 0.13474382], 3),\n",
       " RatchetNode(245082547, [0.4115206  0.65388525 0.05746504], 2),\n",
       " RatchetNode(119744050, [0.41496359 0.66855209 0.1552609 ], 7),\n",
       " RatchetNode(245251550, [0.41486388 0.69148963 0.19624644], 10),\n",
       " RatchetNode(245156449, [0.41247213 0.69177143 0.22015615], 13),\n",
       " RatchetNode(245112314, [0.40640167 0.70600207 0.22835095], 8),\n",
       " RatchetNode(244999222, [0.41362909 0.71010023 0.1536032 ], 7),\n",
       " RatchetNode(245213292, [0.41415714 0.71305358 0.09428908], 4)]"
      ]
     },
     "execution_count": 16,
     "metadata": {},
     "output_type": "execute_result"
    }
   ],
   "source": [
    "list_enclosed_point(np.array([0.415, 0.715, 0.230]))"
   ]
  },
  {
   "cell_type": "code",
   "execution_count": null,
   "id": "517b232b-d6c0-4d8b-9e4a-888caf97cf29",
   "metadata": {},
   "outputs": [],
   "source": []
  }
 ],
 "metadata": {
  "kernelspec": {
   "display_name": "Python 3",
   "language": "python",
   "name": "python3"
  },
  "language_info": {
   "codemirror_mode": {
    "name": "ipython",
    "version": 3
   },
   "file_extension": ".py",
   "mimetype": "text/x-python",
   "name": "python",
   "nbconvert_exporter": "python",
   "pygments_lexer": "ipython3",
   "version": "3.8.8"
  }
 },
 "nbformat": 4,
 "nbformat_minor": 5
}
