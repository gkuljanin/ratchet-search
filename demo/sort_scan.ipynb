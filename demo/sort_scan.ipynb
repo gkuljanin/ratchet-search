{
 "cells": [
  {
   "cell_type": "code",
   "execution_count": 3,
   "id": "2bbe969a-a599-448b-928c-aa13fdb00acb",
   "metadata": {},
   "outputs": [],
   "source": [
    "import pandas as pd\n",
    "import numpy as np\n",
    "import matplotlib.pyplot as plt\n",
    "from sortedcontainers import SortedKeyList"
   ]
  },
  {
   "cell_type": "code",
   "execution_count": 82,
   "id": "c58ae934-846a-4034-96e9-94eeac197454",
   "metadata": {},
   "outputs": [],
   "source": [
    "    data_file = \"demo-data.csv\"\n",
    "    data = pd.read_csv(data_file)\n",
    "    data['ID'] = data['ID'].astype('int')"
   ]
  },
  {
   "cell_type": "code",
   "execution_count": 62,
   "id": "e06988f9-9dbb-4362-aa2a-e7d86c35e967",
   "metadata": {},
   "outputs": [],
   "source": [
    "class RatchetNode:\n",
    "\n",
    "    def __init__(self, id: int, features: np.ndarray):\n",
    "        self.id = int(id)\n",
    "        self.features = np.array(features)\n",
    "        self.mag = magnitude(self.features)\n",
    "        self.enclosed = None\n",
    "        self.extra = None\n",
    "\n",
    "    def __repr__(self):\n",
    "        \n",
    "        return f'RatchetNode({self.id}, {self.features}, {self.enclosed})'\n",
    "\n",
    "    def __str__(self):\n",
    "        return self.__repr__()\n",
    "\n",
    "    def get_feature(self, idx: int):\n",
    "        return self.features[idx]\n",
    "\n",
    "    def get_mag(self):\n",
    "        return self._mag"
   ]
  },
  {
   "cell_type": "markdown",
   "id": "ffa1ed2a-a61d-438f-aeba-6413da3ce8d8",
   "metadata": {},
   "source": [
    "Chebychev distance from origin"
   ]
  },
  {
   "cell_type": "code",
   "execution_count": 27,
   "id": "3e79ea9c-c3e3-4b88-b200-cbf1a7b41ab5",
   "metadata": {},
   "outputs": [],
   "source": [
    "def magnitude(arr: np.ndarray):\n",
    "    return arr.max()"
   ]
  },
  {
   "cell_type": "code",
   "execution_count": 63,
   "id": "420a455b-a31a-4952-a631-4b351316954a",
   "metadata": {},
   "outputs": [],
   "source": [
    "queue = SortedKeyList(key=lambda node: node.mag)"
   ]
  },
  {
   "cell_type": "code",
   "execution_count": 64,
   "id": "2e00081e-0170-4168-9d60-70afae06860b",
   "metadata": {},
   "outputs": [],
   "source": [
    "for id, row in data.iterrows():\n",
    "    id = row[0]\n",
    "    features = list(row[1:])\n",
    "    rn = RatchetNode(id, np.array(features))\n",
    "    queue.add(rn)"
   ]
  },
  {
   "cell_type": "markdown",
   "id": "6741747b-59d7-42b9-b091-195e3a21df91",
   "metadata": {},
   "source": [
    "# Sort and scan method\n",
    "\n",
    "1. Create list sorted by chebyshev distance\n",
    "1. For each item, compute size of \"contained\" set by scanning earlier items in the list in inverse order\n",
    "    1. If a \"candidate\" item or \"extra\" is encountered, stop \n",
    "1. If an item contains exactly k points, mark as \"candidate\"\n",
    "1. If an item contains more than k points, mark as \"extra\""
   ]
  },
  {
   "cell_type": "code",
   "execution_count": 57,
   "id": "6e91ca66-b7e7-40e5-88e6-dfdeded5f5d5",
   "metadata": {},
   "outputs": [],
   "source": [
    "def encloses(p1: np.ndarray, p2: np.ndarray):\n",
    "    return np.sum(p1 < p2) == 0\n",
    "\n",
    "def encloses_node(n1: RatchetNode, n2: RatchetNode):\n",
    "    return encloses(n1.features, n2.features)"
   ]
  },
  {
   "cell_type": "code",
   "execution_count": 58,
   "id": "cdda1ac5-ac73-4845-ae13-0fda395dd471",
   "metadata": {},
   "outputs": [],
   "source": [
    "def scan_left(i):\n",
    "    while i > 0:\n",
    "        node = queue[i-1]\n",
    "        yield node\n",
    "        i -= 1\n"
   ]
  },
  {
   "cell_type": "code",
   "execution_count": 72,
   "id": "1e66441b-8b7d-45d1-a31f-052164ed1c54",
   "metadata": {},
   "outputs": [],
   "source": [
    "candidate_limit = 20\n",
    "\n",
    "def process_node(i):\n",
    "    rn = queue[i]\n",
    "    scanner = scan_left(i)\n",
    "    enclosed_count = 0\n",
    "    \n",
    "    try:\n",
    "        while True:\n",
    "            this_node = next(scanner)\n",
    "            #if this_node.enclosed == candidate_limit or this_node.extra == True:\n",
    "            #    rn.enclosed = -1\n",
    "            #    rn.extra = True\n",
    "            #    break\n",
    "            if encloses_node(rn, this_node):\n",
    "                enclosed_count += 1\n",
    "    except StopIteration:\n",
    "        rn.enclosed = enclosed_count\n",
    "     "
   ]
  },
  {
   "cell_type": "code",
   "execution_count": 73,
   "id": "bfb1f5fa-11e7-4b02-ba18-cdf075400e2d",
   "metadata": {},
   "outputs": [],
   "source": [
    "for i in range(0, len(queue)):\n",
    "    process_node(i)"
   ]
  },
  {
   "cell_type": "code",
   "execution_count": 77,
   "id": "d8d47169-0809-4f5d-aef8-3f1bc6cb379c",
   "metadata": {},
   "outputs": [],
   "source": [
    "candidates = [node for node in queue if node.enclosed == candidate_limit]"
   ]
  },
  {
   "cell_type": "code",
   "execution_count": 78,
   "id": "81f61cba-70a3-4370-9fae-66b4abc0c0e5",
   "metadata": {},
   "outputs": [],
   "source": [
    "def list_enclosed(rn):\n",
    "    return [node for node in queue if encloses_node(rn, node)]"
   ]
  },
  {
   "cell_type": "code",
   "execution_count": 79,
   "id": "6fc90d25-6d96-4a63-81b3-e5560f64d9e0",
   "metadata": {},
   "outputs": [
    {
     "data": {
      "text/plain": [
       "[RatchetNode(91, [0.51051053 0.6026692  0.70199911], 20)]"
      ]
     },
     "execution_count": 79,
     "metadata": {},
     "output_type": "execute_result"
    }
   ],
   "source": [
    "candidates"
   ]
  },
  {
   "cell_type": "code",
   "execution_count": 80,
   "id": "89109759-0f65-4edb-89d9-0a09eb1e828f",
   "metadata": {},
   "outputs": [
    {
     "data": {
      "text/plain": [
       "[RatchetNode(55, [0.14928399 0.08101213 0.01935286], 0),\n",
       " RatchetNode(71, [0.16107311 0.05933266 0.19983314], 0),\n",
       " RatchetNode(13, [0.21374091 0.2069472  0.06968971], 1),\n",
       " RatchetNode(92, [0.16703373 0.22335874 0.11206233], 1),\n",
       " RatchetNode(84, [0.20410631 0.24104136 0.2200862 ], 3),\n",
       " RatchetNode(22, [0.1913797  0.25830743 0.19099136], 2),\n",
       " RatchetNode(76, [0.23200753 0.01366697 0.29731575], 0),\n",
       " RatchetNode(20, [0.30034798 0.13201381 0.15929502], 1),\n",
       " RatchetNode(79, [0.32155202 0.22347597 0.02227091], 1),\n",
       " RatchetNode(86, [0.36313654 0.14224904 0.01478904], 0),\n",
       " RatchetNode(18, [0.37558674 0.28444592 0.37601546], 10),\n",
       " RatchetNode(74, [0.27281377 0.43706438 0.15830621], 3),\n",
       " RatchetNode(51, [0.4405583  0.44693552 0.3037832 ], 11),\n",
       " RatchetNode(45, [0.19296336 0.03566249 0.44949457], 0),\n",
       " RatchetNode(29, [0.4594202  0.13714224 0.2813975 ], 3),\n",
       " RatchetNode(72, [0.3131179  0.21289314 0.49027967], 6),\n",
       " RatchetNode(80, [0.44229574 0.33841391 0.54574921], 13),\n",
       " RatchetNode(52, [0.03105185 0.54827262 0.10290361], 0),\n",
       " RatchetNode(77, [0.4989252  0.40746624 0.55528977], 15),\n",
       " RatchetNode(10, [0.24130917 0.05544123 0.62595757], 2),\n",
       " RatchetNode(91, [0.51051053 0.6026692  0.70199911], 20)]"
      ]
     },
     "execution_count": 80,
     "metadata": {},
     "output_type": "execute_result"
    }
   ],
   "source": [
    "list_enclosed(candidates[0])"
   ]
  },
  {
   "cell_type": "code",
   "execution_count": null,
   "id": "f77413e2-fa61-4ff3-b74b-98233d95f4bc",
   "metadata": {},
   "outputs": [],
   "source": []
  }
 ],
 "metadata": {
  "kernelspec": {
   "display_name": "Python 3",
   "language": "python",
   "name": "python3"
  },
  "language_info": {
   "codemirror_mode": {
    "name": "ipython",
    "version": 3
   },
   "file_extension": ".py",
   "mimetype": "text/x-python",
   "name": "python",
   "nbconvert_exporter": "python",
   "pygments_lexer": "ipython3",
   "version": "3.8.8"
  }
 },
 "nbformat": 4,
 "nbformat_minor": 5
}
